{
 "cells": [
  {
   "cell_type": "code",
   "execution_count": 36,
   "id": "f9ec998d-e1bb-44ca-ae84-71198162adf4",
   "metadata": {},
   "outputs": [],
   "source": [
    "import random\n",
    "import numpy as np\n",
    "import os      #We write a program that will run on both Windows and GNU/Linux.\n",
    "import glob    #For useful easier file or extansion search\n",
    "import cv2"
   ]
  },
  {
   "cell_type": "code",
   "execution_count": 37,
   "id": "5f9d1aa3-44f2-4934-afc8-a8ed2495dad9",
   "metadata": {},
   "outputs": [],
   "source": [
    "def resize(path, img_height, img_width):\n",
    "    img = cv2.imread(path)\n",
    "    resized = cv2.resize(img, (img_height, img_width))# Every img converting to\n",
    "    return resized  "
   ]
  },
  {
   "cell_type": "code",
   "execution_count": 38,
   "id": "b6a18ebf-b6d8-4172-88d7-2e56a83fea94",
   "metadata": {},
   "outputs": [],
   "source": [
    "def get_data():                    \n",
    "    train_directory =\"imgs/train/\" # Data Directory\n",
    "    X_train = []                   # For Train and Test we assign empty array.\n",
    "    y_train = []\n",
    "    \n",
    "    for j in range(10):            # We'll pull the data sequentially from file.\n",
    "        print(\"Load Folder c{}\".format(j))\n",
    "        path = os.path.join(train_directory, 'c' + str(j), '*.jpg') #c0, c1, c2 ...\n",
    "        files = glob.glob(path)\n",
    "        for fl in files:\n",
    "            flbase = os.path.basename(fl) #Method is used to get \n",
    "                                          #the base name in specified path\n",
    "            img = resize(fl, 64, 64)   # We convert the images to 64x64 size  \n",
    "            X_train.append(img)  # And finally, we added the empty defined array.\n",
    "            y_train.append(j)  # And then, for y_train set.\n",
    "    return X_train, y_train"
   ]
  },
  {
   "cell_type": "code",
   "execution_count": 39,
   "id": "cae4bbba-17ef-4342-9bc8-4b2479516878",
   "metadata": {},
   "outputs": [
    {
     "name": "stdout",
     "output_type": "stream",
     "text": [
      "Load Folder c0\n",
      "Load Folder c1\n",
      "Load Folder c2\n",
      "Load Folder c3\n",
      "Load Folder c4\n",
      "Load Folder c5\n",
      "Load Folder c6\n",
      "Load Folder c7\n",
      "Load Folder c8\n",
      "Load Folder c9\n"
     ]
    }
   ],
   "source": [
    "X_train, y = get_data()"
   ]
  },
  {
   "cell_type": "code",
   "execution_count": 40,
   "id": "ec5540ee-5d98-472e-87ea-2cd83aedb87a",
   "metadata": {},
   "outputs": [
    {
     "name": "stdout",
     "output_type": "stream",
     "text": [
      "(22424, 64, 64, 3)\n",
      "(22424,)\n"
     ]
    },
    {
     "data": {
      "text/plain": [
       "(None, None)"
      ]
     },
     "execution_count": 40,
     "metadata": {},
     "output_type": "execute_result"
    }
   ],
   "source": [
    "X_train = np.asarray(X_train) # Convert the input to an array.\n",
    "y = np.asarray(y)\n",
    "print(X_train.shape), print(y.shape)"
   ]
  },
  {
   "cell_type": "code",
   "execution_count": 41,
   "id": "bf4ee401-c1ca-42f2-9c83-17e7afeb135e",
   "metadata": {},
   "outputs": [],
   "source": [
    "from sklearn.model_selection import train_test_split\n",
    "X_train, X_val, y_train, y_val = train_test_split(X_train, y, test_size=0.2, random_state=42)\n",
    "# Split arrays or matrices into random train and test subsets"
   ]
  },
  {
   "cell_type": "code",
   "execution_count": 42,
   "id": "d70795e5-3c39-456e-aace-969726420d3e",
   "metadata": {},
   "outputs": [
    {
     "name": "stdout",
     "output_type": "stream",
     "text": [
      "Training data shape:  (17939, 12288)\n",
      "Validation data shape:  (4485, 12288)\n"
     ]
    }
   ],
   "source": [
    "#numpy.reshape(array, newshape, order='C')\n",
    "#Gives a new shape to an array without changing its data\n",
    "\n",
    "X_train = np.reshape(X_train, (X_train.shape[0], -1))\n",
    "X_val = np.reshape(X_val, (X_val.shape[0], -1))\n",
    "print('Training data shape: ', X_train.shape)\n",
    "print('Validation data shape: ', X_val.shape)"
   ]
  },
  {
   "cell_type": "markdown",
   "id": "7d322728-e1ab-4b9e-a768-7ec9b332d4b9",
   "metadata": {},
   "source": [
    "Now we run the function using softmax.py and linear_classifier.py"
   ]
  },
  {
   "cell_type": "code",
   "execution_count": 43,
   "id": "c97ae4ab-8ffb-469e-be14-096a9ba02da4",
   "metadata": {},
   "outputs": [
    {
     "name": "stdout",
     "output_type": "stream",
     "text": [
      "train accuracy: 0.747701 val accuracy: 0.746265\n"
     ]
    }
   ],
   "source": [
    "from linear_classifier import Softmax # From Linear Classifier will be implemented Softmax.\n",
    "\n",
    "lr = 1e-7              # Unlike previous codes, now we use specific values for\n",
    "reg = 1e4             # Learning Rates and Regularization Strengths.\n",
    "\n",
    "softmax = Softmax()\n",
    "# We train the Data with Softmax Algorithm with specific values and Iterations of 2000.\n",
    "softmax.train(X_train, y_train, learning_rate =lr, reg=reg, num_iters=2000, verbose=False)\n",
    "# Prediction Values\n",
    "y_train_pred = softmax.predict(X_train)\n",
    "y_val_pred = softmax.predict(X_val)\n",
    "# Training- and Validation Accuracy \n",
    "train_accuracy = np.mean(y_train == y_train_pred)\n",
    "val_accuracy = np.mean(y_val == y_val_pred)\n",
    "\n",
    "print('train accuracy: %f val accuracy: %f' % (train_accuracy, val_accuracy))"
   ]
  },
  {
   "cell_type": "code",
   "execution_count": null,
   "id": "76e865c4-1809-403f-8e4a-ab92f05cad38",
   "metadata": {},
   "outputs": [],
   "source": []
  }
 ],
 "metadata": {
  "kernelspec": {
   "display_name": "Python 3",
   "language": "python",
   "name": "python3"
  },
  "language_info": {
   "codemirror_mode": {
    "name": "ipython",
    "version": 3
   },
   "file_extension": ".py",
   "mimetype": "text/x-python",
   "name": "python",
   "nbconvert_exporter": "python",
   "pygments_lexer": "ipython3",
   "version": "3.8.8"
  }
 },
 "nbformat": 4,
 "nbformat_minor": 5
}
