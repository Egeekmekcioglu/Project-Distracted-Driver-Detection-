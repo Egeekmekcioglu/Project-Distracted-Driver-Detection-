{
 "cells": [
  {
   "cell_type": "code",
   "execution_count": 35,
   "id": "e7d3f56c-4a82-4472-92e5-d11003280378",
   "metadata": {},
   "outputs": [],
   "source": [
    "import random\n",
    "import numpy as np\n",
    "import os      #We write a program that will run on both Windows and GNU/Linux.\n",
    "import glob    #For useful easier file or extansion search\n",
    "import cv2"
   ]
  },
  {
   "cell_type": "code",
   "execution_count": 36,
   "id": "eaee7e4e-8c69-4ca1-8a40-fbfc1f4638a6",
   "metadata": {},
   "outputs": [],
   "source": [
    "def resize(path, img_height, img_width):\n",
    "    img = cv2.imread(path)\n",
    "    resized = cv2.resize(img, (img_height, img_width))# Every img converting to\n",
    "    return resized                                    # 64x64 pixel "
   ]
  },
  {
   "cell_type": "code",
   "execution_count": 37,
   "id": "5a9c52a7-5c14-45bb-854a-2ab7f1123b52",
   "metadata": {},
   "outputs": [],
   "source": [
    "def get_data():                    \n",
    "    train_directory =\"imgs/train/\" # Data Directory\n",
    "    X_train = []                   # For Train and Test we assign empty array.\n",
    "    y_train = []\n",
    "    \n",
    "    for j in range(10):            # We'll pull the data sequentially from file.\n",
    "        print(\"Load Folder c{}\".format(j))\n",
    "        path = os.path.join(train_directory, 'c' + str(j), '*.jpg') #c0, c1, c2 ...\n",
    "        files = glob.glob(path)\n",
    "        for fl in files:\n",
    "            flbase = os.path.basename(fl) #Method is used to get \n",
    "                                          #the base name in specified path\n",
    "            img = resize(fl, 64, 64)   # We convert the images to 64x64 size  \n",
    "            X_train.append(img)  # And finally, we added the empty defined array.\n",
    "            y_train.append(j)  # And then, for y_train set.\n",
    "    return X_train, y_train"
   ]
  },
  {
   "cell_type": "code",
   "execution_count": 38,
   "id": "b86e7886-2a22-462a-85d3-fd847d930984",
   "metadata": {},
   "outputs": [
    {
     "name": "stdout",
     "output_type": "stream",
     "text": [
      "Load Folder c0\n",
      "Load Folder c1\n",
      "Load Folder c2\n",
      "Load Folder c3\n",
      "Load Folder c4\n",
      "Load Folder c5\n",
      "Load Folder c6\n",
      "Load Folder c7\n",
      "Load Folder c8\n",
      "Load Folder c9\n"
     ]
    }
   ],
   "source": [
    "X_train, y = get_data()"
   ]
  },
  {
   "cell_type": "code",
   "execution_count": 39,
   "id": "ca3ce09a-fae3-4d83-a021-7f8ba6d21d80",
   "metadata": {},
   "outputs": [
    {
     "name": "stdout",
     "output_type": "stream",
     "text": [
      "(22424, 64, 64, 3)\n",
      "(22424,)\n"
     ]
    },
    {
     "data": {
      "text/plain": [
       "(None, None)"
      ]
     },
     "execution_count": 39,
     "metadata": {},
     "output_type": "execute_result"
    }
   ],
   "source": [
    "X_train = np.asarray(X_train) # Convert the input to an array.\n",
    "y = np.asarray(y)\n",
    "print(X_train.shape), print(y.shape)"
   ]
  },
  {
   "cell_type": "markdown",
   "id": "326f2305-fa1e-4581-a83a-a714d31951c6",
   "metadata": {},
   "source": [
    "22424 pieces 64x64 colored image.    And 22434 pieces y value."
   ]
  },
  {
   "cell_type": "code",
   "execution_count": 40,
   "id": "87629d13-4309-44d3-a29d-5770acb4ae11",
   "metadata": {},
   "outputs": [],
   "source": [
    "from sklearn.model_selection import train_test_split\n",
    "X_train, X_val, y_train, y_val = train_test_split(X_train, y, test_size=0.25, random_state=42)\n",
    "# Split arrays or matrices into random train and test subsets"
   ]
  },
  {
   "cell_type": "code",
   "execution_count": 41,
   "id": "79a7ab01-d5c2-41ad-926c-5dee38cb7955",
   "metadata": {},
   "outputs": [
    {
     "name": "stdout",
     "output_type": "stream",
     "text": [
      "Training data shape:  (16818, 12288)\n",
      "Validation data shape:  (5606, 12288)\n"
     ]
    }
   ],
   "source": [
    "#numpy.reshape(array, newshape, order='C')\n",
    "#Gives a new shape to an array without changing its data\n",
    "\n",
    "X_train = np.reshape(X_train, (X_train.shape[0], -1))\n",
    "X_val = np.reshape(X_val, (X_val.shape[0], -1))\n",
    "print('Training data shape: ', X_train.shape)\n",
    "print('Validation data shape: ', X_val.shape)"
   ]
  },
  {
   "cell_type": "markdown",
   "id": "bf609376-0b93-47c3-9725-07c3ed39e690",
   "metadata": {},
   "source": [
    "# For Linear Classifier and LinearSVM"
   ]
  },
  {
   "cell_type": "markdown",
   "id": "53433060-6d73-4b43-9f5f-3d99d95fffe6",
   "metadata": {},
   "source": [
    "We assign here as a function lineer_classifier.py, linear_svm.py, neural_net.py and last softmax.py prepared files."
   ]
  },
  {
   "cell_type": "code",
   "execution_count": 42,
   "id": "8300201c-a968-45b6-9318-56a3abae10df",
   "metadata": {},
   "outputs": [
    {
     "name": "stdout",
     "output_type": "stream",
     "text": [
      "lr 8.000000e-09 reg 7.000000e+04 train accuracy: 0.539006 val accuracy: 0.516768\n",
      "lr 8.000000e-09 reg 8.000000e+04 train accuracy: 0.602569 val accuracy: 0.578666\n",
      "lr 8.000000e-09 reg 9.000000e+04 train accuracy: 0.659294 val accuracy: 0.638780\n",
      "lr 9.000000e-09 reg 7.000000e+04 train accuracy: 0.626234 val accuracy: 0.604888\n",
      "lr 9.000000e-09 reg 8.000000e+04 train accuracy: 0.684148 val accuracy: 0.668748\n",
      "lr 9.000000e-09 reg 9.000000e+04 train accuracy: 0.734689 val accuracy: 0.720478\n",
      "lr 1.000000e-08 reg 7.000000e+04 train accuracy: 0.691937 val accuracy: 0.674813\n",
      "lr 1.000000e-08 reg 8.000000e+04 train accuracy: 0.753776 val accuracy: 0.738673\n",
      "lr 1.000000e-08 reg 9.000000e+04 train accuracy: 0.777381 val accuracy: 0.767570\n",
      "best validation accuracy achieved during cross-validation: 0.767570\n"
     ]
    }
   ],
   "source": [
    "#Training the Linear Classifier\n",
    "\"\"\"\n",
    "An object of class LinearSVM is trained over \n",
    "X_train for 1500 iterations using some hyperparameters, \n",
    "learning rate and regularization strength. \n",
    "These hyperparameters will be tuned to achieve best possible performance.\n",
    "\"\"\"\n",
    "from linear_classifier import LinearSVM # We implemented the ready code.\n",
    "\n",
    "learning_rates = [9e-9, 1e-8, 8e-9]\n",
    "regularization_strengths = [9e4, 7e4, 8e4]\n",
    "\n",
    "results = {}         #Empty array for results.\n",
    "best_val = -1        # The highest validation accuracy that we have seen so far.\n",
    "best_svm = None     # The LinearSVM object that achieved the highest validation rate.\n",
    "\n",
    "# For Tuning hyperparameters to get the best fit\n",
    "for lr in learning_rates: # [9e-9, 1e-8, 8e-9]\n",
    "    for reg in regularization_strengths: # [9e4, 7e4, 8e4]\n",
    "        linearSVM = LinearSVM()\n",
    "        # Training Code Block\n",
    "        linearSVM.train(X_train, y_train, learning_rate =lr, reg=reg, num_iters=1500, verbose=False)\n",
    "        # Prediction Values \n",
    "        y_train_pred = linearSVM.predict(X_train)\n",
    "        y_val_pred = linearSVM.predict(X_val)\n",
    "        # Training- and Validation Accuracy \n",
    "        train_accuracy = np.mean(y_train == y_train_pred)\n",
    "        val_accuracy = np.mean(y_val == y_val_pred)\n",
    "        results[(lr, reg)] = (train_accuracy, val_accuracy)\n",
    "        if val_accuracy > best_val:\n",
    "            best_val = val_accuracy\n",
    "            best_svm = linearSVM\n",
    "\"\"\"\n",
    "A range of values is taken for learning rate as well as regularization strength,\n",
    "the Linear SVM is then trained using these hyperparameters over 1500iterations\n",
    "The model with the best validation accuracy is chosen \n",
    "due to it’s ability to best fit on unseen data\n",
    "\"\"\"      \n",
    "    \n",
    "for lr, reg in sorted(results):\n",
    "    train_accuracy, val_accuracy = results[(lr, reg)]\n",
    "    print('lr %e reg %e train accuracy: %f val accuracy: %f' % (\n",
    "                lr, reg, train_accuracy, val_accuracy))\n",
    "    \n",
    "print('best validation accuracy achieved during cross-validation: %f' % best_val)"
   ]
  },
  {
   "cell_type": "code",
   "execution_count": 43,
   "id": "b76dfcd9-880e-4d1d-b5d8-6d66eec6c68f",
   "metadata": {},
   "outputs": [
    {
     "name": "stdout",
     "output_type": "stream",
     "text": [
      "iteration 0 / 1500: loss 11153.400019\n",
      "iteration 100 / 1500: loss 7745.579761\n",
      "iteration 200 / 1500: loss 5399.164228\n",
      "iteration 300 / 1500: loss 3766.953306\n",
      "iteration 400 / 1500: loss 2626.490619\n",
      "iteration 500 / 1500: loss 1831.992675\n",
      "iteration 600 / 1500: loss 1278.124956\n",
      "iteration 700 / 1500: loss 892.322461\n",
      "iteration 800 / 1500: loss 622.674840\n",
      "iteration 900 / 1500: loss 434.546293\n",
      "iteration 1000 / 1500: loss 304.612508\n",
      "iteration 1100 / 1500: loss 213.288562\n",
      "iteration 1200 / 1500: loss 149.946395\n",
      "iteration 1300 / 1500: loss 105.357530\n",
      "iteration 1400 / 1500: loss 74.098878\n",
      "train accuracy: 0.777381 val accuracy: 0.767570\n"
     ]
    }
   ],
   "source": [
    "# Predetermined Learning Rate and Regularization Strengths Values are given as data input \n",
    "# for real iterations and loos values sequent calculation \n",
    "\n",
    "import matplotlib.pyplot as plt\n",
    "linearSVM = LinearSVM()\n",
    "loss_hist = linearSVM.train(X_train, y_train, learning_rate =1e-8, reg=9e4, num_iters=1500, verbose=True)\n",
    "y_train_pred = linearSVM.predict(X_train)\n",
    "y_val_pred = linearSVM.predict(X_val)\n",
    "\"\"\"\n",
    "Mean Absolute Error ( MAE ) is the measure of the \n",
    "difference between the two continuous variables. \n",
    "The MAE is the average vertical distance between each \n",
    "actual value and the line that best matches the data. \n",
    "MAE is also the average horizontal distance between each \n",
    "data point and the best matching line.\n",
    "\n",
    "For Completely Explained at : \n",
    "https://vijay-choubey.medium.com/how-to-evaluate-the-performance-of-a-machine-learning-model-d12ce920c365\n",
    "\"\"\"\n",
    "train_accuracy = np.mean(y_train == y_train_pred)\n",
    "val_accuracy = np.mean(y_val == y_val_pred)\n",
    "print('train accuracy: %f val accuracy: %f' % (train_accuracy, val_accuracy))"
   ]
  },
  {
   "cell_type": "code",
   "execution_count": 44,
   "id": "74fb200d-c8dd-4503-b818-66d8e1a0d471",
   "metadata": {},
   "outputs": [
    {
     "data": {
      "image/png": "[encoded data removed]",
      "text/plain": [
       "<Figure size 432x288 with 1 Axes>"
      ]
     },
     "metadata": {
      "needs_background": "light"
     },
     "output_type": "display_data"
    }
   ],
   "source": [
    "plt.plot(loss_hist)\n",
    "plt.xlabel('Iteration number')\n",
    "plt.ylabel('Loss value')\n",
    "plt.savefig(\"loss.jpg\")"
   ]
  },
  {
   "cell_type": "code",
   "execution_count": null,
   "id": "46eac85d-b844-45fb-882e-fc17c04a3480",
   "metadata": {},
   "outputs": [],
   "source": []
  }
 ],
 "metadata": {
  "kernelspec": {
   "display_name": "Python 3",
   "language": "python",
   "name": "python3"
  },
  "language_info": {
   "codemirror_mode": {
    "name": "ipython",
    "version": 3
   },
   "file_extension": ".py",
   "mimetype": "text/x-python",
   "name": "python",
   "nbconvert_exporter": "python",
   "pygments_lexer": "ipython3",
   "version": "3.8.8"
  }
 },
 "nbformat": 4,
 "nbformat_minor": 5
}
