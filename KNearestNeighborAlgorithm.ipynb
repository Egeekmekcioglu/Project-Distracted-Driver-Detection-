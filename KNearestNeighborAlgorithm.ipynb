{
 "cells": [
  {
   "cell_type": "code",
   "execution_count": 1,
   "id": "550956f5-fd97-410c-b807-9e2295d31324",
   "metadata": {},
   "outputs": [],
   "source": [
    "import random\n",
    "import numpy as np\n",
    "import matplotlib.pyplot as plt\n",
    "import os      #We write a program that will run on both Windows and GNU/Linux.\n",
    "import glob    #For useful easier file or extansion search\n",
    "import cv2"
   ]
  },
  {
   "cell_type": "code",
   "execution_count": 2,
   "id": "59ade047-a288-453b-be5c-c0454419d77a",
   "metadata": {},
   "outputs": [],
   "source": [
    "def resize(path, img_height, img_width):\n",
    "    img = cv2.imread(path)\n",
    "    resized = cv2.resize(img, (img_height, img_width))# Every img converting to\n",
    "    return resized                                    # 64x64 pixel "
   ]
  },
  {
   "cell_type": "code",
   "execution_count": 3,
   "id": "d6c532de-910e-45dd-8824-c8dd16b8d185",
   "metadata": {},
   "outputs": [],
   "source": [
    "def get_data():                    \n",
    "    train_directory =\"imgs/train/\" # Data Directory\n",
    "    X_train = []                   # For Train and Test we assign empty array.\n",
    "    y_train = []\n",
    "    \n",
    "    for j in range(10):            # We'll pull the data sequentially from file.\n",
    "        print(\"Load Folder c{}\".format(j))\n",
    "        path = os.path.join(train_directory, 'c' + str(j), '*.jpg') #c0, c1, c2 ...\n",
    "        files = glob.glob(path)\n",
    "        for fl in files:\n",
    "            flbase = os.path.basename(fl) #Method is used to get \n",
    "                                          #the base name in specified path\n",
    "            img = resize(fl, 64, 64)   # We convert the images to 64x64 size  \n",
    "            X_train.append(img)  # And finally, we added the empty defined array.\n",
    "            y_train.append(j)  # And then, for y_train set.\n",
    "    return X_train, y_train"
   ]
  },
  {
   "cell_type": "code",
   "execution_count": 4,
   "id": "36fa8667-ae84-44f7-a8f1-38155207033e",
   "metadata": {},
   "outputs": [
    {
     "name": "stdout",
     "output_type": "stream",
     "text": [
      "Load Folder c0\n",
      "Load Folder c1\n",
      "Load Folder c2\n",
      "Load Folder c3\n",
      "Load Folder c4\n",
      "Load Folder c5\n",
      "Load Folder c6\n",
      "Load Folder c7\n",
      "Load Folder c8\n",
      "Load Folder c9\n"
     ]
    }
   ],
   "source": [
    "X_train, y = get_data()"
   ]
  },
  {
   "cell_type": "code",
   "execution_count": 5,
   "id": "0f38f559-04d8-49c3-8281-30b49ef71d31",
   "metadata": {},
   "outputs": [
    {
     "name": "stdout",
     "output_type": "stream",
     "text": [
      "(22424, 64, 64, 3)\n",
      "(22424,)\n"
     ]
    },
    {
     "data": {
      "text/plain": [
       "(None, None)"
      ]
     },
     "execution_count": 5,
     "metadata": {},
     "output_type": "execute_result"
    }
   ],
   "source": [
    "X_train = np.asarray(X_train) # Convert the input to an array.\n",
    "y = np.asarray(y)\n",
    "print(X_train.shape), print(y.shape)"
   ]
  },
  {
   "cell_type": "code",
   "execution_count": 6,
   "id": "f4c6b99f-3315-42bf-bc5a-75e2428470a2",
   "metadata": {},
   "outputs": [],
   "source": [
    "from sklearn.model_selection import train_test_split\n",
    "X_train, X_val, y_train, y_val = train_test_split(X_train, y, test_size=0.25, random_state=42)\n",
    "# Split arrays or matrices into random train and test subsets"
   ]
  },
  {
   "cell_type": "code",
   "execution_count": 7,
   "id": "1d2ecec9-2143-43af-ab45-cc5365449485",
   "metadata": {},
   "outputs": [
    {
     "name": "stdout",
     "output_type": "stream",
     "text": [
      "Training data shape:  (16818, 12288)\n",
      "Validation data shape:  (5606, 12288)\n"
     ]
    }
   ],
   "source": [
    "#numpy.reshape(array, newshape, order='C')\n",
    "#Gives a new shape to an array without changing its data\n",
    "# Reshape the image data into rows\n",
    "X_train = np.reshape(X_train, (X_train.shape[0], -1)) # Same ID\n",
    "X_val = np.reshape(X_val, (X_val.shape[0], -1))       # X_test\n",
    "print('Training data shape: ', X_train.shape)\n",
    "print('Validation data shape: ', X_val.shape)"
   ]
  },
  {
   "cell_type": "markdown",
   "id": "6be9c2a3-7cfd-4356-a8b3-0908936078bf",
   "metadata": {},
   "source": [
    "# K- Nearest Neighbor Algorithm"
   ]
  },
  {
   "cell_type": "markdown",
   "id": "f93efb3f-5747-4b59-9585-d82ce86c93fb",
   "metadata": {},
   "source": [
    "The kNN classifier consists of two stages:\n",
    "\n",
    "    1.During training, the classifier takes the training data and simply remembers it\n",
    "    2.During testing, kNN classifies every test image by comparing to all training images and transfering the labels of the k most similar training examples\n",
    "    The value of k is cross-validated"
   ]
  },
  {
   "cell_type": "code",
   "execution_count": 8,
   "id": "a0012691-7b25-4a93-9859-7c136b41de7a",
   "metadata": {},
   "outputs": [],
   "source": [
    "from KNearestNeighbor import KNearestNeighbor\n",
    "\n",
    "# Create a kNN classifier instance. \n",
    "# Remember that training a kNN classifier is a noop: \n",
    "# the Classifier simply remembers the data and does no further processing \n",
    "classifier = KNearestNeighbor()\n",
    "classifier.train(X_train, y_train)"
   ]
  },
  {
   "cell_type": "markdown",
   "id": "434e23e3-8870-408c-827b-f15da1918c25",
   "metadata": {},
   "source": [
    "\n",
    "\n",
    "We would now like to classify the test data with the kNN classifier. Recall that we can break down this process into two steps:\n",
    "\n",
    "    1.First we must compute the distances between all test examples and all train examples.\n",
    "    2.Given these distances, for each test example we find the k nearest examples and have them vote for the label\n",
    "\n",
    "Lets begin with computing the distance matrix between all training and test examples. For example, if there are Ntr training examples and Nte test examples, this stage should result in a Nte x Ntr matrix where each element (i,j) is the distance between the i-th test and j-th train example.\n",
    "\n",
    "First, open cs231n/classifiers/k_nearest_neighbor.py and implement the function compute_distances_two_loops that uses a (very inefficient) double loop over all pairs of (test, train) examples and computes the distance matrix one element at a time.\n"
   ]
  },
  {
   "cell_type": "code",
   "execution_count": 9,
   "id": "dcf0ed2a-1636-41d0-9372-39bc56b225bf",
   "metadata": {},
   "outputs": [
    {
     "name": "stdout",
     "output_type": "stream",
     "text": [
      "(5606, 16818)\n"
     ]
    }
   ],
   "source": [
    "# compute_distances_two_loops.\n",
    "# Test your implementation:\n",
    "dists = classifier.compute_distances_two_loops(X_val)\n",
    "print(dists.shape)"
   ]
  },
  {
   "cell_type": "code",
   "execution_count": 20,
   "id": "723c259b-3128-4041-a201-ba2726ee588c",
   "metadata": {},
   "outputs": [
    {
     "name": "stdout",
     "output_type": "stream",
     "text": [
      "Got  5572  /  5606  correct => accuracy:  0.9939350695683197\n"
     ]
    }
   ],
   "source": [
    "# Now implement the function predict_labels and run the code below:\n",
    "# We use k = 1 (which is Nearest Neighbor).\n",
    "y_test_pred = classifier.predict_labels(dists, k=1)\n",
    "\n",
    "# Compute and print the fraction of correctly predicted examples\n",
    "num_correct = np.sum(y_test_pred == y_val)\n",
    "num_test = X_val.shape[0]\n",
    "accuracy = float(num_correct) / (num_test)\n",
    "print('Got ',num_correct,' / ',num_test,' correct => accuracy: ',accuracy)"
   ]
  },
  {
   "cell_type": "code",
   "execution_count": 30,
   "id": "d8e058fa-7897-4f53-969f-f0ed56ad5fb9",
   "metadata": {},
   "outputs": [
    {
     "name": "stdout",
     "output_type": "stream",
     "text": [
      "(5000, 12288) (500, 12288)\n",
      "(500, 5000)\n",
      "Got  481  /  500  correct => accuracy:  0.962\n"
     ]
    }
   ],
   "source": [
    "num_training = 5000\n",
    "mask = range(num_training)\n",
    "X_train = X_train[mask]\n",
    "y_train = y_train[mask]\n",
    "\n",
    "num_test = 500\n",
    "mask = range(num_test)\n",
    "X_val = X_val[mask]\n",
    "y_val = y_val[mask]\n",
    "\n",
    "X_train = np.reshape(X_train, (X_train.shape[0], -1))\n",
    "X_val = np.reshape(X_val, (X_val.shape[0], -1))\n",
    "print(X_train.shape, X_val.shape)\n",
    "\n",
    "classifier = KNearestNeighbor()\n",
    "classifier.train(X_train, y_train)\n",
    "\n",
    "dists = classifier.compute_distances_two_loops(X_val)\n",
    "print(dists.shape)\n",
    "\n",
    "y_test_pred = classifier.predict_labels(dists, k=1)\n",
    "\n",
    "# Compute and print the fraction of correctly predicted examples\n",
    "num_correct = np.sum(y_test_pred == y_val)\n",
    "num_test = X_val.shape[0]\n",
    "accuracy = float(num_correct) / (num_test)\n",
    "print('Got ',num_correct,' / ',num_test,' correct => accuracy: ',accuracy)"
   ]
  },
  {
   "cell_type": "markdown",
   "id": "57203982-defc-433c-a8a4-cd74d6654ac8",
   "metadata": {},
   "source": [
    "You should expect to see approximately 99% accuracy. Now lets try out a larger k, say k = 5:"
   ]
  },
  {
   "cell_type": "code",
   "execution_count": 41,
   "id": "94e814be-36fe-4e81-85f1-076c9737eb61",
   "metadata": {},
   "outputs": [
    {
     "name": "stdout",
     "output_type": "stream",
     "text": [
      "Got  467  /  500  correct => accuracy:  0.934\n"
     ]
    }
   ],
   "source": [
    "y_test_pred = classifier.predict_labels(dists, k=5)\n",
    "num_correct = np.sum(y_test_pred == y_val)\n",
    "num_test = X_val.shape[0]\n",
    "accuracy = float(num_correct) / num_test\n",
    "print('Got ',num_correct,' / ',num_test,' correct => accuracy: ',accuracy)"
   ]
  },
  {
   "cell_type": "markdown",
   "id": "739d9c8a-8026-4eb9-96cf-982c353f392f",
   "metadata": {},
   "source": [
    "\n",
    "# Cross-validation\n",
    "\n",
    "We have implemented the k-Nearest Neighbor classifier but we set the value k = 5 arbitrarily. We will now determine the best value of this hyperparameter with cross-validation.\n"
   ]
  },
  {
   "cell_type": "code",
   "execution_count": 45,
   "id": "9f396b46-1cb0-4f6d-8571-1da79584a3c8",
   "metadata": {},
   "outputs": [
    {
     "name": "stdout",
     "output_type": "stream",
     "text": [
      "k = 1.000, accuracy = 0.977\n",
      "k = 1.000, accuracy = 0.956\n",
      "k = 1.000, accuracy = 0.965\n",
      "k = 1.000, accuracy = 0.964\n",
      "k = 1.000, accuracy = 0.973\n",
      "k = 3.000, accuracy = 0.952\n",
      "k = 3.000, accuracy = 0.939\n",
      "k = 3.000, accuracy = 0.942\n",
      "k = 3.000, accuracy = 0.942\n",
      "k = 3.000, accuracy = 0.945\n",
      "k = 5.000, accuracy = 0.935\n",
      "k = 5.000, accuracy = 0.910\n",
      "k = 5.000, accuracy = 0.927\n",
      "k = 5.000, accuracy = 0.920\n",
      "k = 5.000, accuracy = 0.920\n",
      "k = 8.000, accuracy = 0.896\n",
      "k = 8.000, accuracy = 0.863\n",
      "k = 8.000, accuracy = 0.882\n",
      "k = 8.000, accuracy = 0.890\n",
      "k = 8.000, accuracy = 0.883\n",
      "k = 10.000, accuracy = 0.872\n",
      "k = 10.000, accuracy = 0.854\n",
      "k = 10.000, accuracy = 0.864\n",
      "k = 10.000, accuracy = 0.862\n",
      "k = 10.000, accuracy = 0.863\n",
      "k = 12.000, accuracy = 0.847\n",
      "k = 12.000, accuracy = 0.832\n",
      "k = 12.000, accuracy = 0.837\n",
      "k = 12.000, accuracy = 0.846\n",
      "k = 12.000, accuracy = 0.843\n",
      "k = 15.000, accuracy = 0.811\n",
      "k = 15.000, accuracy = 0.789\n",
      "k = 15.000, accuracy = 0.806\n",
      "k = 15.000, accuracy = 0.800\n",
      "k = 15.000, accuracy = 0.808\n",
      "k = 20.000, accuracy = 0.753\n",
      "k = 20.000, accuracy = 0.720\n",
      "k = 20.000, accuracy = 0.744\n",
      "k = 20.000, accuracy = 0.739\n",
      "k = 20.000, accuracy = 0.749\n",
      "k = 50.000, accuracy = 0.497\n",
      "k = 50.000, accuracy = 0.468\n",
      "k = 50.000, accuracy = 0.482\n",
      "k = 50.000, accuracy = 0.490\n",
      "k = 50.000, accuracy = 0.510\n",
      "k = 100.000, accuracy = 0.304\n",
      "k = 100.000, accuracy = 0.272\n",
      "k = 100.000, accuracy = 0.277\n",
      "k = 100.000, accuracy = 0.314\n",
      "k = 100.000, accuracy = 0.296\n"
     ]
    }
   ],
   "source": [
    "num_folds = 5\n",
    "k_choices = [1, 3, 5, 8, 10, 12, 15, 20, 50, 100]\n",
    "\n",
    "X_train_folds = []\n",
    "y_train_folds = []\n",
    "################################################################################\n",
    "# Split up the training data into folds. After splitting, X_train_folds and    #\n",
    "# y_train_folds should each be lists of length num_folds, where                #\n",
    "# y_train_folds[i] is the label vector for the points in X_train_folds[i].     #\n",
    "# Hint: Look up the numpy array_split function.                                #\n",
    "################################################################################\n",
    "\n",
    "X_train_folds = np.array_split(X_train, num_folds, axis=0) # list\n",
    "y_train_folds = np.array_split(y_train, num_folds, axis=0) # list\n",
    "\n",
    "# A dictionary holding the accuracies for different values of k that we find\n",
    "# when running cross-validation. After running cross-validation,\n",
    "# k_to_accuracies[k] should be a list of length num_folds giving the different\n",
    "# accuracy values that we found when using that value of k.\n",
    "k_to_accuracies = {}\n",
    "\n",
    "\n",
    "################################################################################\n",
    "# TODO:                                                                        #\n",
    "# Perform k-fold cross validation to find the best value of k. For each        #\n",
    "# possible value of k, run the k-nearest-neighbor algorithm num_folds times,   #\n",
    "# where in each case you use all but one of the folds as training data and the #\n",
    "# last fold as a validation set. Store the accuracies for all fold and all     #\n",
    "# values of k in the k_to_accuracies dictionary.                               #\n",
    "################################################################################\n",
    "\n",
    "for i in range(num_folds):\n",
    "    # train / validation split (80% 20%)\n",
    "    X_train_batch = np.concatenate(X_train_folds[1:num_folds])   \n",
    "    y_train_batch = np.concatenate(y_train_folds[1:num_folds])\n",
    "    X_valid_batch = X_train_folds[0]   \n",
    "    y_valid_batch = y_train_folds[0]\n",
    "\n",
    "    # swap data (for next iteration)\n",
    "    if i < num_folds - 1:\n",
    "        tmp = X_train_folds[0]\n",
    "        X_train_folds[0] = X_train_folds[i+1]\n",
    "        X_train_folds[i+1] = tmp\n",
    "        tmp = y_train_folds[0]\n",
    "        y_train_folds[0] = y_train_folds[i+1]\n",
    "        y_train_folds[i+1] = tmp\n",
    "\n",
    "    \n",
    "    # train model\n",
    "    model = KNearestNeighbor()\n",
    "    model.train(X_train_batch, y_train_batch)\n",
    "    dists = model.compute_distances_two_loops(X_valid_batch)\n",
    "    \n",
    "    # compute accuracy for each k \n",
    "    for k in k_choices:\n",
    "        y_valid_pred = model.predict_labels(dists, k=k)\n",
    "\n",
    "        # compute validation accuracy\n",
    "        num_correct = np.sum(y_valid_pred == y_valid_batch)\n",
    "        accuracy = float(num_correct) / y_valid_batch.shape[0]\n",
    "\n",
    "        # accumulate accuracy into dictionary\n",
    "        if i == 0:\n",
    "            k_to_accuracies[k] = [] \n",
    "        k_to_accuracies[k].append(accuracy)\n",
    "\n",
    "# Print out the computed accuracies\n",
    "for k in sorted(k_to_accuracies):\n",
    "    for accuracy in k_to_accuracies[k]:\n",
    "        print('k = {:.3f}, accuracy = {:.3f}'.format(k, accuracy))"
   ]
  },
  {
   "cell_type": "code",
   "execution_count": 46,
   "id": "db5cc297-66fa-41bb-8af3-a44b00f17f8a",
   "metadata": {},
   "outputs": [
    {
     "data": {
      "image/png": "[encoded data removed]",
      "text/plain": [
       "<Figure size 432x288 with 1 Axes>"
      ]
     },
     "metadata": {
      "needs_background": "light"
     },
     "output_type": "display_data"
    }
   ],
   "source": [
    "# plot the raw observations\n",
    "for k in k_choices:\n",
    "    accuracies = k_to_accuracies[k]\n",
    "    plt.scatter([k] * len(accuracies), accuracies)\n",
    "\n",
    "# plot the trend line with error bars that correspond to standard deviation\n",
    "accuracies_mean = np.array([np.mean(v) for k,v in sorted(k_to_accuracies.items())])\n",
    "accuracies_std = np.array([np.std(v) for k,v in sorted(k_to_accuracies.items())])\n",
    "plt.errorbar(k_choices, accuracies_mean, yerr=accuracies_std)\n",
    "plt.title('Cross-validation on k')\n",
    "plt.xlabel('k')\n",
    "plt.ylabel('Cross-validation accuracy')\n",
    "plt.show()"
   ]
  },
  {
   "cell_type": "code",
   "execution_count": 54,
   "id": "587bb059-a781-4f8a-8ddd-f63192657563",
   "metadata": {},
   "outputs": [
    {
     "name": "stdout",
     "output_type": "stream",
     "text": [
      "Got 481 / 500 correct => accuracy: 0.962000\n"
     ]
    }
   ],
   "source": [
    "# Based on the cross-validation results above, choose the best value for k,   \n",
    "# retrain the classifier using all the training data, and test it on the test\n",
    "# data.\n",
    "best_k = 1\n",
    "\n",
    "classifier = KNearestNeighbor()\n",
    "classifier.train(X_train, y_train)\n",
    "y_test_pred = classifier.predict(X_val, k=best_k, num_loops=2)\n",
    "\n",
    "# Compute and display the accuracy\n",
    "num_correct = np.sum(y_test_pred == y_val)\n",
    "num_test = X_val.shape[0]\n",
    "accuracy = float(num_correct) / num_test\n",
    "print('Got %d / %d correct => accuracy: %f' %(num_correct, num_test, accuracy))"
   ]
  },
  {
   "cell_type": "code",
   "execution_count": null,
   "id": "6f47b954-0880-4eed-a38b-1e39554f2634",
   "metadata": {},
   "outputs": [],
   "source": []
  }
 ],
 "metadata": {
  "kernelspec": {
   "display_name": "Python 3",
   "language": "python",
   "name": "python3"
  },
  "language_info": {
   "codemirror_mode": {
    "name": "ipython",
    "version": 3
   },
   "file_extension": ".py",
   "mimetype": "text/x-python",
   "name": "python",
   "nbconvert_exporter": "python",
   "pygments_lexer": "ipython3",
   "version": "3.8.8"
  }
 },
 "nbformat": 4,
 "nbformat_minor": 5
}
