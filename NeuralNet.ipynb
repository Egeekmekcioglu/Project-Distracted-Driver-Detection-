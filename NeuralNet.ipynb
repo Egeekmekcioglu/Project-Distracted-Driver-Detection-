{
 "cells": [
  {
   "cell_type": "code",
   "execution_count": 1,
   "id": "89dd7903-85b9-49c1-a503-98d2f6077741",
   "metadata": {},
   "outputs": [],
   "source": [
    "import random\n",
    "import numpy as np\n",
    "import os      #We write a program that will run on both Windows and GNU/Linux.\n",
    "import glob    #For useful easier file or extansion search\n",
    "import cv2\n",
    "import pandas as pd \n",
    "import matplotlib.pyplot as plt\n",
    "from sklearn import preprocessing\n",
    "from sklearn.preprocessing import MinMaxScaler\n",
    "from sklearn import metrics\n",
    "from sklearn.metrics import confusion_matrix\n",
    "import itertools"
   ]
  },
  {
   "cell_type": "code",
   "execution_count": 2,
   "id": "f1dbb5e7-465d-4ab2-b552-7907db9bbf02",
   "metadata": {},
   "outputs": [],
   "source": [
    "def resize(path, img_height, img_width):\n",
    "    img = cv2.imread(path)\n",
    "    resized = cv2.resize(img, (img_height, img_width))# Every img converting to\n",
    "    return resized                                    # 64x64 pixel "
   ]
  },
  {
   "cell_type": "code",
   "execution_count": 3,
   "id": "13889500-1ac7-46ec-ba4d-15a51b5a6fe3",
   "metadata": {},
   "outputs": [],
   "source": [
    "def get_data():                    \n",
    "    train_directory =\"imgs/train/\" # Data Directory\n",
    "    X_train = []                   # For Train and Test we assign empty array.\n",
    "    y_train = []\n",
    "    \n",
    "    for j in range(10):            # We'll pull the data sequentially from file.\n",
    "        print(\"Load Folder c{}\".format(j))\n",
    "        path = os.path.join(train_directory, 'c' + str(j), '*.jpg') #c0, c1, c2 ...\n",
    "        files = glob.glob(path)\n",
    "        for fl in files:\n",
    "            flbase = os.path.basename(fl) #Method is used to get \n",
    "                                          #the base name in specified path\n",
    "            img = resize(fl, 64, 64)   # We convert the images to 64x64 size  \n",
    "            X_train.append(img)  # And finally, we added the empty defined array.\n",
    "            y_train.append(j)  # And then, for y_train set.\n",
    "    return X_train, y_train"
   ]
  },
  {
   "cell_type": "code",
   "execution_count": 4,
   "id": "837d5494-d69c-4518-9dc0-484646e1f420",
   "metadata": {},
   "outputs": [
    {
     "name": "stdout",
     "output_type": "stream",
     "text": [
      "Load Folder c0\n",
      "Load Folder c1\n",
      "Load Folder c2\n",
      "Load Folder c3\n",
      "Load Folder c4\n",
      "Load Folder c5\n",
      "Load Folder c6\n",
      "Load Folder c7\n",
      "Load Folder c8\n",
      "Load Folder c9\n"
     ]
    }
   ],
   "source": [
    "X_train, y = get_data()"
   ]
  },
  {
   "cell_type": "code",
   "execution_count": 5,
   "id": "a8bebfd1-69a8-4e88-8982-7fce0cd3e280",
   "metadata": {},
   "outputs": [
    {
     "name": "stdout",
     "output_type": "stream",
     "text": [
      "(22424, 64, 64, 3)\n",
      "(22424,)\n"
     ]
    },
    {
     "data": {
      "text/plain": [
       "(None, None)"
      ]
     },
     "execution_count": 5,
     "metadata": {},
     "output_type": "execute_result"
    }
   ],
   "source": [
    "X_train = np.asarray(X_train) # Convert the input to an array.\n",
    "y = np.asarray(y)\n",
    "print(X_train.shape), print(y.shape)"
   ]
  },
  {
   "cell_type": "code",
   "execution_count": 6,
   "id": "cb96844c-13ea-40c9-bba3-1b457b42e034",
   "metadata": {},
   "outputs": [],
   "source": [
    "from sklearn.model_selection import train_test_split\n",
    "X_train, X_val, y_train, y_val = train_test_split(X_train, y, test_size=0.2, random_state=42)\n",
    "# Split arrays or matrices into random train and test subsets"
   ]
  },
  {
   "cell_type": "code",
   "execution_count": 7,
   "id": "cd4a0f33-8210-4d29-8af0-23d3c026ad18",
   "metadata": {},
   "outputs": [
    {
     "name": "stdout",
     "output_type": "stream",
     "text": [
      "Training data shape:  (17939, 12288)\n",
      "Validation data shape:  (4485, 12288)\n"
     ]
    }
   ],
   "source": [
    "#numpy.reshape(array, newshape, order='C')\n",
    "#Gives a new shape to an array without changing its data\n",
    "\n",
    "X_train = np.reshape(X_train, (X_train.shape[0], -1))\n",
    "X_val = np.reshape(X_val, (X_val.shape[0], -1))\n",
    "print('Training data shape: ', X_train.shape)\n",
    "print('Validation data shape: ', X_val.shape)"
   ]
  },
  {
   "cell_type": "markdown",
   "id": "7a9204a1-1b6c-446d-9e6f-091b1ae568ff",
   "metadata": {},
   "source": [
    "# Two Layer Neural Net"
   ]
  },
  {
   "cell_type": "code",
   "execution_count": 62,
   "id": "6ba7a3ac-89b8-486a-b48e-608fcbe8a227",
   "metadata": {},
   "outputs": [
    {
     "name": "stdout",
     "output_type": "stream",
     "text": [
      "train accuracy: 0.828101 val accuracy: 0.816447\n"
     ]
    }
   ],
   "source": [
    "from neural_net import TwoLayerNet # We impleneted pre-made Neural Net file.\n",
    "# And as input will be define specific values.\n",
    "num_classes = 10\n",
    "input_size = 64 * 64 * 3\n",
    "\n",
    "results = {}\n",
    "epoch = 2000\n",
    "hidden = 100\n",
    "\n",
    "# Inıt, Train, Loss and Predict Functions togerher work.\n",
    "net = TwoLayerNet(input_size, hidden, num_classes)\n",
    "net.train(X_train, y_train,X_val,y_val, learning_rate = 1e-4, learning_rate_decay=0.9, reg=0.5, num_iters = epoch, verbose=False)\n",
    "y_train_pred = net.predict(X_train)\n",
    "y_val_pred = net.predict(X_val)\n",
    "train_accuracy = np.mean(y_train == y_train_pred)\n",
    "val_accuracy = np.mean(y_val == y_val_pred)\n",
    "\n",
    "print('train accuracy: %f val accuracy: %f' % (train_accuracy, val_accuracy))"
   ]
  },
  {
   "cell_type": "code",
   "execution_count": 63,
   "id": "d6f742fe-48da-43f7-8574-84e339e051a9",
   "metadata": {},
   "outputs": [
    {
     "name": "stdout",
     "output_type": "stream",
     "text": [
      "defaultdict(<class 'int'>, {5: 0.9878682842287695, 7: 0.9520833333333333, 3: 0.48925619834710743, 6: 0.9778156996587031, 8: 0.6171079429735234, 0: 0.8132635253054101, 9: 0.5139442231075697, 4: 0.9779286926994907, 1: 0.8727272727272727, 2: 0.919732441471572})\n"
     ]
    }
   ],
   "source": [
    "import collections\n",
    "count_label = collections.Counter(y_val)\n",
    "\n",
    "\n",
    "pred_label = collections.defaultdict(int)\n",
    "wrong_label = collections.defaultdict(lambda: list)\n",
    "for i in range(y_val.shape[0]):\n",
    "    if y_val[i] == y_val_pred[i]:\n",
    "        pred_label[y_val[i]]+=1\n",
    "    else:\n",
    "        wrong_label[y_val[i]].append(y_val_pred[i])\n",
    "class_acc = collections.defaultdict(int)\n",
    "\n",
    "for c in count_label:\n",
    "    class_acc[c] = pred_label[c]/count_label[c]\n",
    "print(class_acc)"
   ]
  },
  {
   "cell_type": "code",
   "execution_count": 64,
   "id": "4cc7fc98-651f-4f7c-88e3-d920467517e6",
   "metadata": {},
   "outputs": [
    {
     "name": "stdout",
     "output_type": "stream",
     "text": [
      "0 Safe Driving 0.8132635253054101 \n",
      "\n",
      "1 Texting-Right 0.8727272727272727 \n",
      "\n",
      "2 Talking on the Phone-Right 0.919732441471572 \n",
      "\n",
      "3 Texting-Left 0.48925619834710743 \n",
      "\n",
      "4 Talking on the Phone-Left 0.9779286926994907 \n",
      "\n",
      "5 Operating the Radio 0.9878682842287695 \n",
      "\n",
      "6 Drinking 0.9778156996587031 \n",
      "\n",
      "7 Leaning Behind 0.9520833333333333 \n",
      "\n",
      "8 Makeup and Hair 0.6171079429735234 \n",
      "\n",
      "9 Talking to Passenger 0.5139442231075697 \n",
      "\n"
     ]
    }
   ],
   "source": [
    "list = [\"Safe Driving\",\"Texting-Right\",\"Talking on the Phone-Right\",\"Texting-Left\",\"Talking on the Phone-Left\",\"Operating the Radio\",\"Drinking\",\"Leaning Behind\",\"Makeup and Hair\",\"Talking to Passenger\"]\n",
    "\n",
    "for i in range(10):\n",
    "    print(i,list[i],class_acc[i],\"\\n\")"
   ]
  },
  {
   "cell_type": "code",
   "execution_count": null,
   "id": "1ee3b5a3-5748-4907-949d-e3cba08cb16e",
   "metadata": {},
   "outputs": [],
   "source": []
  }
 ],
 "metadata": {
  "kernelspec": {
   "display_name": "Python 3",
   "language": "python",
   "name": "python3"
  },
  "language_info": {
   "codemirror_mode": {
    "name": "ipython",
    "version": 3
   },
   "file_extension": ".py",
   "mimetype": "text/x-python",
   "name": "python",
   "nbconvert_exporter": "python",
   "pygments_lexer": "ipython3",
   "version": "3.8.8"
  }
 },
 "nbformat": 4,
 "nbformat_minor": 5
}
